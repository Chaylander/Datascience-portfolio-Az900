{
 "cells": [
  {
   "cell_type": "markdown",
   "metadata": {},
   "source": [
    "# Practica 1 del ciclo especializado. Ciencia de datos con Azure\n",
    "## Práctica de visión computacional"
   ]
  },
  {
   "cell_type": "code",
   "execution_count": 11,
   "metadata": {},
   "outputs": [],
   "source": [
    "# Establecemos credenciales\n",
    "# Remplaza con tu llave y endpoint\n",
    "key = \"your key here\"\n",
    "endpoint = \"your endpoint here\""
   ]
  },
  {
   "cell_type": "code",
   "execution_count": null,
   "metadata": {},
   "outputs": [],
   "source": [
    "# Instalamos la biblioteca de Computer Vision\n",
    "%pip install --upgrade azure-cognitiveservices-vision-computervision"
   ]
  },
  {
   "cell_type": "code",
   "execution_count": 18,
   "metadata": {},
   "outputs": [],
   "source": [
    "# conectamos con Azure\n",
    "from azure.cognitiveservices.vision.computervision import ComputerVisionClient\n",
    "# Autenticar\n",
    "from msrest.authentication import CognitiveServicesCredentials\n",
    "\n",
    "client = ComputerVisionClient(endpoint, CognitiveServicesCredentials(key))\n"
   ]
  },
  {
   "cell_type": "code",
   "execution_count": null,
   "metadata": {},
   "outputs": [],
   "source": [
    "import vision \n",
    "import os \n",
    "\n",
    "%matplotlib inline"
   ]
  },
  {
   "cell_type": "code",
   "execution_count": null,
   "metadata": {},
   "outputs": [],
   "source": [
    "# Obtenemos la imagen\n",
    "image_path = \"./Data/Persona.png\"\n",
    "\n",
    "image_stream = open(image_path, 'rb')\n",
    "description = client.describe_image_in_stream(image_stream)\n",
    "\n",
    "vision.show_image_caption(image_path, description)\n",
    "print(description)"
   ]
  }
 ],
 "metadata": {
  "kernelspec": {
   "display_name": "Python 3.10.2 64-bit",
   "language": "python",
   "name": "python3"
  },
  "language_info": {
   "codemirror_mode": {
    "name": "ipython",
    "version": 3
   },
   "file_extension": ".py",
   "mimetype": "text/x-python",
   "name": "python",
   "nbconvert_exporter": "python",
   "pygments_lexer": "ipython3",
   "version": "3.10.2"
  },
  "orig_nbformat": 4,
  "vscode": {
   "interpreter": {
    "hash": "1950b71fd65ee12fc262ed5cd35411d7f9fe38587dc410a04cea69b3bc13a8ec"
   }
  }
 },
 "nbformat": 4,
 "nbformat_minor": 2
}
