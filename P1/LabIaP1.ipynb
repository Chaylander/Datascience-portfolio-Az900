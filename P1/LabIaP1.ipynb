{
 "cells": [
  {
   "cell_type": "markdown",
   "metadata": {},
   "source": [
    "# Practica 1 del ciclo especializado. Ciencia de datos con Azure\n",
    "## Práctica de visión computacional"
   ]
  },
  {
   "cell_type": "code",
   "execution_count": null,
   "metadata": {},
   "outputs": [],
   "source": [
    "# Establecemos credenciales\n",
    "# Remplaza con tu llave y endpoint\n",
    "key = \"your key here\"\n",
    "endpoint = \"your enpiendpoint here\""
   ]
  },
  {
   "cell_type": "code",
   "execution_count": null,
   "metadata": {},
   "outputs": [],
   "source": [
    "# conectamos con Azure\n",
    "from azure.cognitiveservices.vision.computervision import ComputerVisionClient\n",
    "# Autenticar\n",
    "from msrest.authentication import CognitiveServicesCredentials\n",
    "\n",
    "client = ComputerVisionClient(endpoint, CognitiveServicesCredentials(key))\n"
   ]
  },
  {
   "cell_type": "code",
   "execution_count": null,
   "metadata": {},
   "outputs": [],
   "source": [
    "# "
   ]
  }
 ],
 "metadata": {
  "language_info": {
   "name": "python"
  },
  "orig_nbformat": 4
 },
 "nbformat": 4,
 "nbformat_minor": 2
}
